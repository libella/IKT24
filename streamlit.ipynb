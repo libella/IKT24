{
  "nbformat": 4,
  "nbformat_minor": 0,
  "metadata": {
    "colab": {
      "provenance": [],
      "authorship_tag": "ABX9TyMkSSRL0Zigj0IGtE/Zln5E",
      "include_colab_link": true
    },
    "kernelspec": {
      "name": "python3",
      "display_name": "Python 3"
    },
    "language_info": {
      "name": "python"
    }
  },
  "cells": [
    {
      "cell_type": "markdown",
      "metadata": {
        "id": "view-in-github",
        "colab_type": "text"
      },
      "source": [
        "<a href=\"https://colab.research.google.com/github/libella/IKT24/blob/main/streamlit.ipynb\" target=\"_parent\"><img src=\"https://colab.research.google.com/assets/colab-badge.svg\" alt=\"Open In Colab\"/></a>"
      ]
    },
    {
      "cell_type": "code",
      "execution_count": null,
      "metadata": {
        "id": "9YFankbq0Lzn"
      },
      "outputs": [],
      "source": [
        "import streamlit as st\n",
        "import pandas as pd\n",
        "from prediction import predict\n",
        "\n",
        "st.title('Spam-Projekt, IKT-SS24')\n",
        "st.subheader('Irina Ukhanova')\n",
        "\n",
        "st.subheader('Ist diese Nachricht Spam oder nicht?')\n",
        "st.markdown('Probieren Sie dieses ML-Modell aus, um zu prüfen, ob die Nachricht auf den P4G-Portalen als Spam markiert werden sollte.')\n",
        "with st.form(\"my_form\"):\n",
        "\temail = st.text_input(\"E-Mail\")\n",
        "\ttxt = st.text_area(\"Geben Sie hier die Nachricht an (nicht mehr als 1000 Zeichen):\", max_chars=1000)\n",
        "\tif st.button(\"Spam oder nicht?\"):\n",
        "\t\tresult = predict(np.array([[email, txt]]))\n",
        "\t\tst.text(result[0])\n",
        "\t#submitted = st.form_submit_button(\"Spam oder nicht?\")\n",
        "\t#if submitted:\n",
        "\t\t#st.write (\"Prüfung läuft\")\n",
        ""
      ]
    }
  ]
}