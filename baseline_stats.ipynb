{
  "nbformat": 4,
  "nbformat_minor": 0,
  "metadata": {
    "colab": {
      "provenance": [],
      "authorship_tag": "ABX9TyNhJ9Vgn48Wdi3WlbQQIywu",
      "include_colab_link": true
    },
    "kernelspec": {
      "name": "python3",
      "display_name": "Python 3"
    },
    "language_info": {
      "name": "python"
    }
  },
  "cells": [
    {
      "cell_type": "markdown",
      "metadata": {
        "id": "view-in-github",
        "colab_type": "text"
      },
      "source": [
        "<a href=\"https://colab.research.google.com/github/libella/IKT24/blob/main/baseline_stats.ipynb\" target=\"_parent\"><img src=\"https://colab.research.google.com/assets/colab-badge.svg\" alt=\"Open In Colab\"/></a>"
      ]
    },
    {
      "cell_type": "code",
      "execution_count": 6,
      "metadata": {
        "colab": {
          "base_uri": "https://localhost:8080/"
        },
        "id": "FVmDe1riUh5m",
        "outputId": "883e48ff-db44-4f6d-9b84-847406aae594"
      },
      "outputs": [
        {
          "output_type": "stream",
          "name": "stdout",
          "text": [
            "Drive already mounted at /content/drive; to attempt to forcibly remount, call drive.mount(\"/content/drive\", force_remount=True).\n",
            "\n",
            "Nonspam Messages : 29301\n",
            "Spam messages: 38\n"
          ]
        }
      ],
      "source": [
        "\n",
        "from google.colab import drive\n",
        "drive.mount('/content/drive')\n",
        "def read_messages_from_file(filename):\n",
        "    with open(filename, 'r') as file:\n",
        "        return [line.strip() for line in file]\n",
        "\n",
        "def filter_spam_messages(messages, spam_words):\n",
        "    filtered_messages = []\n",
        "    nonspam_count = 0\n",
        "    spam_count = 0\n",
        "\n",
        "    for message in messages:\n",
        "        if not any(word.lower() in message.lower() for word in spam_words):\n",
        "            filtered_messages.append(message)\n",
        "            nonspam_count += 1\n",
        "        else:\n",
        "            spam_count += 1\n",
        "\n",
        "    return filtered_messages, nonspam_count, spam_count\n",
        "\n",
        "spam_words = [\"sex\", \"muschi\", \"sexy\"]\n",
        "\n",
        "# Read messages from file\n",
        "file_path = '/content/drive/MyDrive/Colab Notebooks/ProjektSpam/spam_nichtspam_datensatz.csv'\n",
        "#df = pd.read_csv(file_path)\n",
        "#filename = \"spam_nichtspam_datensatz.csv\"\n",
        "messages = read_messages_from_file(file_path )\n",
        "\n",
        "\n",
        "filtered, nonspam, spam = filter_spam_messages(messages, spam_words)\n",
        "\n",
        "print(f\"\\nNonspam Messages : {nonspam}\")\n",
        "print(f\"Spam messages: {spam}\")\n"
      ]
    },
    {
      "cell_type": "code",
      "source": [],
      "metadata": {
        "id": "kVxucHuuUtPg"
      },
      "execution_count": null,
      "outputs": []
    }
  ]
}